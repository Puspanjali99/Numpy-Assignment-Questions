{
 "cells": [
  {
   "cell_type": "markdown",
   "id": "a70a9948",
   "metadata": {},
   "source": [
    "# 1. What is a Python library? Why do we use Python libraries?"
   ]
  },
  {
   "cell_type": "code",
   "execution_count": null,
   "id": "5d06ab0d",
   "metadata": {},
   "outputs": [],
   "source": [
    "A Python library is a collection of pre-written Python code that provides functionalities to perform specific tasks or solve particular problems. These libraries contain modules, classes, functions, and constants that can be imported and used in your Python programs.\n",
    "\n",
    "Python libraries serve several purposes:\n",
    "\n",
    "Reuse of Code: Libraries provide pre-written code for common tasks, allowing developers to reuse existing solutions rather than reinventing the wheel. This saves time and effort.\n",
    "\n",
    "Increased Productivity: By using libraries, developers can focus on solving higher-level problems rather than spending time on low-level implementation details.\n",
    "\n",
    "Specialized Functionality: Python libraries often offer specialized functionality for tasks such as data analysis, machine learning, web development, scientific computing, etc. These functionalities might require complex algorithms or data structures that are already implemented in the library.\n",
    "\n",
    "Community Contribution: Python has a large and active community of developers who contribute to open-source libraries. These libraries are continuously updated, improved, and maintained by the community, providing a rich ecosystem for Python development.\n",
    "\n",
    "Performance Optimization: Many Python libraries are written in languages like C or C++, which can offer better performance compared to pure Python implementations. By using these libraries, developers can leverage optimized code for performance-critical tasks."
   ]
  },
  {
   "cell_type": "markdown",
   "id": "b78cfab7",
   "metadata": {},
   "source": [
    "# 2. What is the difference between Numpy array and List?"
   ]
  },
  {
   "cell_type": "code",
   "execution_count": null,
   "id": "1bac4cca",
   "metadata": {},
   "outputs": [],
   "source": [
    "NumPy arrays and Python lists are both used to store collections of data, but they have several differences:\n",
    "\n",
    "Data Types:\n",
    "\n",
    "In Python lists, elements can be of any data type, and different elements within the same list can have different types.\n",
    "NumPy arrays, however, are homogeneous; all elements in a NumPy array must have the same data type. This allows for more efficient storage and operations on the data.\n",
    "Memory Efficiency:\n",
    "\n",
    "NumPy arrays are more memory efficient than Python lists. Because NumPy arrays are homogeneous, they require less memory overhead for storing metadata.\n",
    "NumPy arrays also store data in a contiguous block of memory, which can improve cache locality and access speed compared to the scattered memory locations of Python lists.\n",
    "Performance:\n",
    "\n",
    "NumPy arrays generally offer better performance for numerical operations and computations compared to Python lists. NumPy's underlying implementation in C allows for optimized, vectorized operations that can be executed more efficiently than equivalent operations performed on Python lists using loops.\n",
    "Functionality:\n",
    "\n",
    "NumPy arrays provide a wide range of mathematical and array manipulation functions and methods, making them particularly useful for numerical computing, scientific computing, and data analysis tasks.\n",
    "Python lists offer more flexibility and a broader range of built-in methods and functions compared to NumPy arrays, but they lack the specialized functionalities and optimizations for numerical computations that NumPy provides.\n",
    "Ease of Use:\n",
    "\n",
    "Python lists are generally easier to work with for simple data storage and manipulation tasks due to their flexibility and simplicity.\n",
    "NumPy arrays require a bit more understanding of array-oriented programming concepts, but they offer powerful capabilities for numerical computing tasks once you become familiar with them."
   ]
  },
  {
   "cell_type": "markdown",
   "id": "d3733f0d",
   "metadata": {},
   "source": [
    "# 3. Find the shape, size and dimension of the following array?\n",
    "[[1, 2, 3, 4]\n",
    "[5, 6, 7, 8],\n",
    "[9, 10, 11, 12]]"
   ]
  },
  {
   "cell_type": "code",
   "execution_count": 2,
   "id": "2c0a22a6",
   "metadata": {},
   "outputs": [],
   "source": [
    "import numpy as np"
   ]
  },
  {
   "cell_type": "code",
   "execution_count": 3,
   "id": "4f13486d",
   "metadata": {},
   "outputs": [],
   "source": [
    "arr = np.array([[1,2, 3, 4],\n",
    "               [5, 6, 7, 8],\n",
    "               [9, 10, 11, 12]])"
   ]
  },
  {
   "cell_type": "code",
   "execution_count": 4,
   "id": "ca6e5ac7",
   "metadata": {},
   "outputs": [
    {
     "data": {
      "text/plain": [
       "(3, 4)"
      ]
     },
     "execution_count": 4,
     "metadata": {},
     "output_type": "execute_result"
    }
   ],
   "source": [
    "arr.shape"
   ]
  },
  {
   "cell_type": "code",
   "execution_count": 5,
   "id": "11533b4b",
   "metadata": {},
   "outputs": [
    {
     "data": {
      "text/plain": [
       "12"
      ]
     },
     "execution_count": 5,
     "metadata": {},
     "output_type": "execute_result"
    }
   ],
   "source": [
    "arr.size"
   ]
  },
  {
   "cell_type": "code",
   "execution_count": 7,
   "id": "f0def0cf",
   "metadata": {},
   "outputs": [
    {
     "data": {
      "text/plain": [
       "2"
      ]
     },
     "execution_count": 7,
     "metadata": {},
     "output_type": "execute_result"
    }
   ],
   "source": [
    "arr.ndim"
   ]
  },
  {
   "cell_type": "markdown",
   "id": "129751a3",
   "metadata": {},
   "source": [
    "# 4. Write python code to access the first row of the following array?\n",
    "[[1, 2, 3, 4]\n",
    "[5, 6, 7, 8],\n",
    "[9, 10, 11, 12]]"
   ]
  },
  {
   "cell_type": "code",
   "execution_count": 8,
   "id": "ac41dda5",
   "metadata": {},
   "outputs": [],
   "source": [
    "df = np.array([[1, 2, 3, 4],\n",
    "              [5, 6, 7, 8],\n",
    "              [9, 10, 11, 12]])"
   ]
  },
  {
   "cell_type": "code",
   "execution_count": 9,
   "id": "33a97bda",
   "metadata": {},
   "outputs": [],
   "source": [
    "first_row = df[0]"
   ]
  },
  {
   "cell_type": "code",
   "execution_count": 10,
   "id": "eba0079a",
   "metadata": {},
   "outputs": [
    {
     "data": {
      "text/plain": [
       "array([1, 2, 3, 4])"
      ]
     },
     "execution_count": 10,
     "metadata": {},
     "output_type": "execute_result"
    }
   ],
   "source": [
    "first_row"
   ]
  },
  {
   "cell_type": "markdown",
   "id": "1b6102b8",
   "metadata": {},
   "source": [
    "# 5. How do you access the element at the third row and fourth column from the given numpy array?\n",
    "[[1, 2, 3, 4]\n",
    "[5, 6, 7, 8],\n",
    "[9, 10, 11, 12]]"
   ]
  },
  {
   "cell_type": "code",
   "execution_count": 3,
   "id": "4e6b8729",
   "metadata": {},
   "outputs": [
    {
     "data": {
      "text/plain": [
       "12"
      ]
     },
     "execution_count": 3,
     "metadata": {},
     "output_type": "execute_result"
    }
   ],
   "source": [
    "import numpy as np\n",
    "arr = np.array([[1,2,3,4], [5,6,7,8],[9,10,11,12]])\n",
    "df = arr[2,3]\n",
    "df"
   ]
  },
  {
   "cell_type": "markdown",
   "id": "940503d8",
   "metadata": {},
   "source": [
    "# 6. Write code to extract all odd-indexed elements from the given numpy array?\n",
    "[[1, 2, 3, 4]\n",
    "[5, 6, 7, 8],\n",
    "[9, 10, 11, 12]]"
   ]
  },
  {
   "cell_type": "code",
   "execution_count": 2,
   "id": "58a2aec5",
   "metadata": {},
   "outputs": [],
   "source": [
    "import numpy as np"
   ]
  },
  {
   "cell_type": "code",
   "execution_count": 3,
   "id": "2d600480",
   "metadata": {},
   "outputs": [],
   "source": [
    "arr = np.array([[1,2,3,4], [5,6,7,8],[9,10,11,12]])"
   ]
  },
  {
   "cell_type": "code",
   "execution_count": 6,
   "id": "3672cf31",
   "metadata": {},
   "outputs": [
    {
     "data": {
      "text/plain": [
       "array([[ 2,  4],\n",
       "       [ 6,  8],\n",
       "       [10, 12]])"
      ]
     },
     "execution_count": 6,
     "metadata": {},
     "output_type": "execute_result"
    }
   ],
   "source": [
    "arr[:,1::2]"
   ]
  },
  {
   "cell_type": "markdown",
   "id": "64fa2564",
   "metadata": {},
   "source": [
    "# 7. How can you generate a random 3x3 matrix with values between 0 and 1?"
   ]
  },
  {
   "cell_type": "code",
   "execution_count": 7,
   "id": "c19134eb",
   "metadata": {},
   "outputs": [],
   "source": [
    "random_matrix = np.random.rand(3, 3)"
   ]
  },
  {
   "cell_type": "code",
   "execution_count": 8,
   "id": "05c33aad",
   "metadata": {},
   "outputs": [
    {
     "data": {
      "text/plain": [
       "array([[0.09005555, 0.64951411, 0.44614108],\n",
       "       [0.73945269, 0.77756845, 0.03359317],\n",
       "       [0.8412952 , 0.15092223, 0.47995575]])"
      ]
     },
     "execution_count": 8,
     "metadata": {},
     "output_type": "execute_result"
    }
   ],
   "source": [
    "random_matrix"
   ]
  },
  {
   "cell_type": "markdown",
   "id": "d1bbd956",
   "metadata": {},
   "source": [
    "# 8. Describe the difference between np.random.rand and np.random.randn?"
   ]
  },
  {
   "cell_type": "code",
   "execution_count": null,
   "id": "8db13685",
   "metadata": {},
   "outputs": [],
   "source": [
    "- np.random.rand and np.random.randn are both functions provided by NumPy's random module for generating random numbers, but they have some key differences\n",
    "- np.random.rand:\n",
    "----------------------\n",
    "Generates random numbers from a uniform distribution over [0, 1).\n",
    "Takes dimensions of the desired output as arguments.\n",
    "All values generated are equally likely.\n",
    "It's suitable for creating arrays of random values uniformly distributed between 0 and 1.\n",
    "Syntax: np.random.rand(d0, d1, ..., dn)\n",
    "                                                           \n",
    "- np.random.randn:\n",
    "-----------------------\n",
    "\n",
    "Generates random numbers from a standard normal distribution (mean=0, standard deviation=1).\n",
    "Takes dimensions of the desired output as arguments.\n",
    "Values are more likely to be near 0, following a bell-shaped curve.\n",
    "Suitable for creating arrays of random values that follow a normal distribution.\n",
    "Syntax: np.random.randn(d0, d1, ..., dn)                                                          "
   ]
  },
  {
   "cell_type": "markdown",
   "id": "994c8cfd",
   "metadata": {},
   "source": [
    "# 9. Write code to increase the dimension of the following array?\n",
    "[[1, 2, 3, 4]\n",
    "[5, 6, 7, 8],\n",
    "[9, 10, 11, 12]]"
   ]
  },
  {
   "cell_type": "code",
   "execution_count": 9,
   "id": "c68358c8",
   "metadata": {},
   "outputs": [],
   "source": [
    "arr = np.array([[1, 2, 3, 4], [5, 6, 7, 8], [9, 10, 11, 12]])"
   ]
  },
  {
   "cell_type": "code",
   "execution_count": 12,
   "id": "bb4051d8",
   "metadata": {},
   "outputs": [
    {
     "data": {
      "text/plain": [
       "array([[[ 1],\n",
       "        [ 2],\n",
       "        [ 3],\n",
       "        [ 4]],\n",
       "\n",
       "       [[ 5],\n",
       "        [ 6],\n",
       "        [ 7],\n",
       "        [ 8]],\n",
       "\n",
       "       [[ 9],\n",
       "        [10],\n",
       "        [11],\n",
       "        [12]]])"
      ]
     },
     "execution_count": 12,
     "metadata": {},
     "output_type": "execute_result"
    }
   ],
   "source": [
    "arr[:, :, np.newaxis]"
   ]
  },
  {
   "cell_type": "markdown",
   "id": "43b66006",
   "metadata": {},
   "source": [
    "# 10. How to transpose the following array in NumPy?\n",
    "[[1, 2, 3, 4]\n",
    "[5, 6, 7, 8],\n",
    "[9, 10, 11, 12]]"
   ]
  },
  {
   "cell_type": "code",
   "execution_count": 13,
   "id": "ed0ecc83",
   "metadata": {},
   "outputs": [],
   "source": [
    "arr = np.array([[1, 2, 3, 4],\n",
    "                [5, 6, 7, 8],\n",
    "                [9, 10, 11, 12]])"
   ]
  },
  {
   "cell_type": "code",
   "execution_count": 14,
   "id": "9bdb78c3",
   "metadata": {},
   "outputs": [],
   "source": [
    "transposed_arr = np.transpose(arr)"
   ]
  },
  {
   "cell_type": "code",
   "execution_count": 15,
   "id": "799aea79",
   "metadata": {},
   "outputs": [
    {
     "data": {
      "text/plain": [
       "array([[ 1,  5,  9],\n",
       "       [ 2,  6, 10],\n",
       "       [ 3,  7, 11],\n",
       "       [ 4,  8, 12]])"
      ]
     },
     "execution_count": 15,
     "metadata": {},
     "output_type": "execute_result"
    }
   ],
   "source": [
    "transposed_arr"
   ]
  },
  {
   "cell_type": "markdown",
   "id": "c99b649c",
   "metadata": {},
   "source": [
    "# 11. Consider the following matrix:\n",
    "# Matrix A2 [[1, 2, 3, 4] [5, 6, 7, 8],[9, 10, 11, 12]]\n",
    "# Matrix B2 [[1, 2, 3, 4] [5, 6, 7, 8],[9, 10, 11, 12]]\n",
    "# Perform the following operation using Python1\n",
    "# 1. Index wise multiplication'\n",
    "# 2. Matix multiplication'\n",
    "# 3. Add both the matics\n",
    "# 4. Subtact matix B  from A\n",
    "# 5. Diide Matix B by A"
   ]
  },
  {
   "cell_type": "code",
   "execution_count": 16,
   "id": "039f755a",
   "metadata": {},
   "outputs": [],
   "source": [
    "A = np.array([[1, 2, 3, 4],\n",
    "              [5, 6, 7, 8],\n",
    "              [9, 10, 11, 12]])"
   ]
  },
  {
   "cell_type": "code",
   "execution_count": 17,
   "id": "f37b3ce2",
   "metadata": {},
   "outputs": [],
   "source": [
    "B = np.array([[1, 2, 3, 4],\n",
    "              [5, 6, 7, 8],\n",
    "              [9, 10, 11, 12]])"
   ]
  },
  {
   "cell_type": "markdown",
   "id": "afa0214f",
   "metadata": {},
   "source": [
    "# 1. Index wise multiplication'"
   ]
  },
  {
   "cell_type": "code",
   "execution_count": 18,
   "id": "456fcbff",
   "metadata": {},
   "outputs": [],
   "source": [
    "index_wise_multiplication = A * B"
   ]
  },
  {
   "cell_type": "code",
   "execution_count": 19,
   "id": "e6a4a22f",
   "metadata": {},
   "outputs": [
    {
     "data": {
      "text/plain": [
       "array([[  1,   4,   9,  16],\n",
       "       [ 25,  36,  49,  64],\n",
       "       [ 81, 100, 121, 144]])"
      ]
     },
     "execution_count": 19,
     "metadata": {},
     "output_type": "execute_result"
    }
   ],
   "source": [
    "index_wise_multiplication"
   ]
  },
  {
   "cell_type": "markdown",
   "id": "f969fab6",
   "metadata": {},
   "source": [
    "# 2. Matrix multiplication"
   ]
  },
  {
   "cell_type": "code",
   "execution_count": 20,
   "id": "69d8a577",
   "metadata": {},
   "outputs": [],
   "source": [
    "matrix_multiplication = np.matmul(A, B.T)"
   ]
  },
  {
   "cell_type": "code",
   "execution_count": 21,
   "id": "e188de2a",
   "metadata": {},
   "outputs": [
    {
     "data": {
      "text/plain": [
       "array([[ 30,  70, 110],\n",
       "       [ 70, 174, 278],\n",
       "       [110, 278, 446]])"
      ]
     },
     "execution_count": 21,
     "metadata": {},
     "output_type": "execute_result"
    }
   ],
   "source": [
    "matrix_multiplication"
   ]
  },
  {
   "cell_type": "markdown",
   "id": "4be51593",
   "metadata": {},
   "source": [
    "# 3. Addition of both matrices"
   ]
  },
  {
   "cell_type": "code",
   "execution_count": 22,
   "id": "cba5f434",
   "metadata": {},
   "outputs": [],
   "source": [
    "matrix_addition = A + B"
   ]
  },
  {
   "cell_type": "code",
   "execution_count": 23,
   "id": "73749186",
   "metadata": {},
   "outputs": [
    {
     "data": {
      "text/plain": [
       "array([[ 2,  4,  6,  8],\n",
       "       [10, 12, 14, 16],\n",
       "       [18, 20, 22, 24]])"
      ]
     },
     "execution_count": 23,
     "metadata": {},
     "output_type": "execute_result"
    }
   ],
   "source": [
    "matrix_addition"
   ]
  },
  {
   "cell_type": "markdown",
   "id": "29cbe4c3",
   "metadata": {},
   "source": [
    "# 4. Subtraction of matrix B from matrix A"
   ]
  },
  {
   "cell_type": "code",
   "execution_count": 24,
   "id": "e7166e68",
   "metadata": {},
   "outputs": [],
   "source": [
    "matrix_subtraction = A - B"
   ]
  },
  {
   "cell_type": "code",
   "execution_count": 25,
   "id": "bf009caf",
   "metadata": {},
   "outputs": [
    {
     "data": {
      "text/plain": [
       "array([[0, 0, 0, 0],\n",
       "       [0, 0, 0, 0],\n",
       "       [0, 0, 0, 0]])"
      ]
     },
     "execution_count": 25,
     "metadata": {},
     "output_type": "execute_result"
    }
   ],
   "source": [
    "matrix_subtraction"
   ]
  },
  {
   "cell_type": "markdown",
   "id": "adc5986e",
   "metadata": {},
   "source": [
    "# 5. Element-wise division of matrix B by matrix A"
   ]
  },
  {
   "cell_type": "code",
   "execution_count": 26,
   "id": "3c0de4ff",
   "metadata": {},
   "outputs": [],
   "source": [
    "element_wise_division = np.divide(B, A)"
   ]
  },
  {
   "cell_type": "code",
   "execution_count": 27,
   "id": "0609819b",
   "metadata": {},
   "outputs": [
    {
     "data": {
      "text/plain": [
       "array([[1., 1., 1., 1.],\n",
       "       [1., 1., 1., 1.],\n",
       "       [1., 1., 1., 1.]])"
      ]
     },
     "execution_count": 27,
     "metadata": {},
     "output_type": "execute_result"
    }
   ],
   "source": [
    "element_wise_division"
   ]
  },
  {
   "cell_type": "markdown",
   "id": "e5f3df4f",
   "metadata": {},
   "source": [
    "# 12. Which function in Numpy can be used to swap the byte order of an array?"
   ]
  },
  {
   "cell_type": "code",
   "execution_count": 33,
   "id": "6a813c45",
   "metadata": {},
   "outputs": [],
   "source": [
    "arr = np.array([1, 2, 3, 4], dtype=np.int32)"
   ]
  },
  {
   "cell_type": "code",
   "execution_count": 34,
   "id": "0464e7cc",
   "metadata": {},
   "outputs": [],
   "source": [
    "swapped_arr = arr.byteswap()"
   ]
  },
  {
   "cell_type": "code",
   "execution_count": 35,
   "id": "a5d69a7d",
   "metadata": {},
   "outputs": [
    {
     "data": {
      "text/plain": [
       "array([16777216, 33554432, 50331648, 67108864])"
      ]
     },
     "execution_count": 35,
     "metadata": {},
     "output_type": "execute_result"
    }
   ],
   "source": [
    "swapped_arr"
   ]
  },
  {
   "cell_type": "markdown",
   "id": "afd6fc43",
   "metadata": {},
   "source": [
    "# 13. What is the significance of the np.linalg.inv function?"
   ]
  },
  {
   "cell_type": "code",
   "execution_count": null,
   "id": "f5689770",
   "metadata": {},
   "outputs": [],
   "source": [
    "- The np.linalg.inv() function in NumPy is used to compute the inverse of a square matrix. The significance of this function lies in various mathematical and computational applications, particularly in linear algebra and solving systems of linear equations.\n",
    "\n",
    "Here are some key points regarding the significance of np.linalg.inv()\n",
    "- Applications in Statistics and Optimization: In statistics, the inverse of a covariance matrix is often used in multivariate analysis and parameter estimation techniques like the ordinary least squares (OLS) method. In optimization algorithms, the inverse of the Hessian matrix plays a significant role in determining the direction of descent.\n",
    "\n",
    "Computational Efficiency: While computing the inverse of a matrix can be computationally expensive, particularly for large matrices, the np.linalg.inv() function leverages optimized algorithms and libraries, making the computation more efficient compared to manual implementation"
   ]
  },
  {
   "cell_type": "markdown",
   "id": "6c9dbae0",
   "metadata": {},
   "source": [
    "# 14. What does the np.reshape function do, and how is it used?"
   ]
  },
  {
   "cell_type": "code",
   "execution_count": null,
   "id": "0d9aefd4",
   "metadata": {},
   "outputs": [],
   "source": [
    "- The np.reshape() function in NumPy is used to change the shape (dimensions) of an array while preserving its data. It does not change the underlying data; rather, it changes how the data is interpreted by the array's shape.\n",
    "\n",
    "Here's what np.reshape() does and how it is used\n",
    "\n",
    "- Changing Array Shape: The primary purpose of np.reshape() is to change the shape of an array. This means you can convert an array from one-dimensional to multi-dimensional or vice versa, or simply change the dimensions of a multi-dimensional array.\n",
    "\n",
    "- Preserving Data: When you reshape an array using np.reshape(), the function tries to create a new view of the data with the specified shape without changing the data itself. This means the reshaped array shares the same underlying data buffer as the original array\n",
    "- Common Applications:\n",
    "\n",
    "Preparing data for specific operations or algorithms that require a certain shape of input data.\n",
    "Flattening multi-dimensional arrays into one-dimensional arrays or vice versa.\n",
    "Reshaping arrays to match input requirements for neural networks or other machine learning algorithms    \n"
   ]
  },
  {
   "cell_type": "markdown",
   "id": "2eedd701",
   "metadata": {},
   "source": [
    "# 15. What is broadcasting in Numpy?"
   ]
  },
  {
   "cell_type": "code",
   "execution_count": null,
   "id": "5546ef9b",
   "metadata": {},
   "outputs": [],
   "source": [
    "- Broadcasting in NumPy refers to the ability of NumPy to perform arithmetic operations on arrays of different shapes and sizes. This allows you to perform operations even if the arrays do not have the same shape, as long as they meet certain compatibility rules. Broadcasting effectively extends smaller arrays to match the shape of larger arrays during arithmetic operations, eliminating the need for explicit looping over array elements.\n",
    "\n",
    "The broadcasting rule in NumPy follows these steps:\n",
    "\n",
    "Dimension Compatibility: NumPy compares the dimensions of the two arrays element-wise, starting from the trailing dimensions and working its way forward. It checks if the dimensions are equal or if one of the dimensions is 1. If both conditions are met or if one of the arrays has fewer dimensions than the other, broadcasting is possible.\n",
    "\n",
    "Array Extension: If broadcasting is possible, NumPy automatically extends (or \"broadcasts\") the smaller array along the missing dimensions to match the shape of the larger array. This extension involves replicating the values along the broadcasted dimensions without actually creating multiple copies of the data in memory.\n",
    "\n",
    "Element-wise Operation: Once the arrays have been broadcasted to the same shape, NumPy performs the element-wise operation (e.g., addition, subtraction, multiplication) as usual.\n",
    "    "
   ]
  }
 ],
 "metadata": {
  "kernelspec": {
   "display_name": "Python 3 (ipykernel)",
   "language": "python",
   "name": "python3"
  },
  "language_info": {
   "codemirror_mode": {
    "name": "ipython",
    "version": 3
   },
   "file_extension": ".py",
   "mimetype": "text/x-python",
   "name": "python",
   "nbconvert_exporter": "python",
   "pygments_lexer": "ipython3",
   "version": "3.9.7"
  }
 },
 "nbformat": 4,
 "nbformat_minor": 5
}
